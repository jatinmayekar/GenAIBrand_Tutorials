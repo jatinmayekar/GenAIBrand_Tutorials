{
 "cells": [
  {
   "cell_type": "code",
   "execution_count": 1,
   "metadata": {},
   "outputs": [
    {
     "name": "stdout",
     "output_type": "stream",
     "text": [
      "Note: you may need to restart the kernel to use updated packages.\n"
     ]
    }
   ],
   "source": [
    "%pip install -U -q \"google-generativeai>=0.8.3\""
   ]
  },
  {
   "cell_type": "code",
   "execution_count": 3,
   "metadata": {},
   "outputs": [],
   "source": [
    "import tqdm as notebook_tqdm\n",
    "import google.generativeai as genai\n",
    "from IPython.display import HTML, Markdown, display"
   ]
  },
  {
   "cell_type": "code",
   "execution_count": 6,
   "metadata": {},
   "outputs": [],
   "source": [
    "import os\n",
    "from dotenv import load_dotenv\n",
    "load_dotenv()\n",
    "GOOGLE_API_KEY = os.getenv(\"GOOGLE_API_KEY\")\n",
    "genai.configure(api_key=GOOGLE_API_KEY)"
   ]
  },
  {
   "cell_type": "code",
   "execution_count": 8,
   "metadata": {},
   "outputs": [
    {
     "name": "stdout",
     "output_type": "stream",
     "text": [
      "Imagine you have a really smart robot friend named AI. AI can learn and think like a human, but it doesn't have a body! It lives inside a computer. \n",
      "\n",
      "Here's how AI works:\n",
      "\n",
      "* **Learning:** AI learns by looking at lots of information, like pictures, videos, and stories. It tries to understand the patterns and relationships in the information. \n",
      "* **Thinking:** Once AI has learned, it can think and make decisions. It can answer your questions, solve problems, and even create new things.\n",
      "* **Helping Us:** AI can help us in many ways, like:\n",
      "    *  **Playing Games:** AI can be your opponent in video games, making them more challenging and fun!\n",
      "    *  **Telling Stories:** AI can write stories or poems, just like a writer.\n",
      "    *  **Recognizing Faces:** AI can help us find people in pictures or videos.\n",
      "    *  **Driving Cars:** AI can help self-driving cars stay on the road and avoid accidents.\n",
      "\n",
      "AI is still learning and growing, just like you! It's super cool because it can do things that humans can't do easily, like analyze tons of information in a short amount of time. But remember, AI is just a tool, and it's important to use it responsibly. \n",
      "\n"
     ]
    },
    {
     "data": {
      "text/markdown": [
       "Imagine you have a really smart robot friend named AI. AI can learn and think like a human, but it doesn't have a body! It lives inside a computer. \n",
       "\n",
       "Here's how AI works:\n",
       "\n",
       "* **Learning:** AI learns by looking at lots of information, like pictures, videos, and stories. It tries to understand the patterns and relationships in the information. \n",
       "* **Thinking:** Once AI has learned, it can think and make decisions. It can answer your questions, solve problems, and even create new things.\n",
       "* **Helping Us:** AI can help us in many ways, like:\n",
       "    *  **Playing Games:** AI can be your opponent in video games, making them more challenging and fun!\n",
       "    *  **Telling Stories:** AI can write stories or poems, just like a writer.\n",
       "    *  **Recognizing Faces:** AI can help us find people in pictures or videos.\n",
       "    *  **Driving Cars:** AI can help self-driving cars stay on the road and avoid accidents.\n",
       "\n",
       "AI is still learning and growing, just like you! It's super cool because it can do things that humans can't do easily, like analyze tons of information in a short amount of time. But remember, AI is just a tool, and it's important to use it responsibly. \n"
      ],
      "text/plain": [
       "<IPython.core.display.Markdown object>"
      ]
     },
     "execution_count": 8,
     "metadata": {},
     "output_type": "execute_result"
    }
   ],
   "source": [
    "flash = genai.GenerativeModel('gemini-1.5-flash')\n",
    "response = flash.generate_content(\"Explain AI to me like I'm a kid.\")\n",
    "print(response.text)\n",
    "Markdown(response.text)"
   ]
  },
  {
   "cell_type": "code",
   "execution_count": 11,
   "metadata": {},
   "outputs": [
    {
     "name": "stdout",
     "output_type": "stream",
     "text": [
      "Hello Jatin! 👋  It's nice to meet you. What can I do for you today? 😊 \n",
      "\n"
     ]
    }
   ],
   "source": [
    "chat = flash.start_chat(history=[])\n",
    "response = chat.send_message('Hello! My name is Jatin')\n",
    "print(response.text)"
   ]
  },
  {
   "cell_type": "code",
   "execution_count": 12,
   "metadata": {},
   "outputs": [
    {
     "name": "stdout",
     "output_type": "stream",
     "text": [
      "That's a fun question!  It depends on what kind of AI you're trying to beat:\n",
      "\n",
      "**In a Game:**\n",
      "\n",
      "* **Learn the AI's patterns:** AI often have predictable strategies. Observe and learn how they play, then exploit their weaknesses.\n",
      "* **Use randomness:**  Many AI's struggle with unpredictable moves. Try to throw them off their game by acting randomly or in unexpected ways.\n",
      "* **Find the AI's vulnerabilities:**  Every AI has weaknesses.  Figure out what makes them struggle and focus your strategy on exploiting those weaknesses.\n",
      "\n",
      "**In Other Situations:**\n",
      "\n",
      "* **Be creative and original:**  AI are often trained on existing data. If you can come up with new ideas or solutions that are outside the AI's training set, you can outperform it.\n",
      "* **Focus on human strengths:** AI excels at tasks like data analysis and pattern recognition.  Humans are better at creative thinking, problem-solving, and emotional intelligence.  Leverage your strengths.\n",
      "* **Work collaboratively:**  In many cases, the best way to beat an AI is to team up with other humans. \n",
      "\n",
      "**Remember:** \n",
      "\n",
      "* **AI is constantly evolving:** What works today might not work tomorrow. \n",
      "* **Don't be afraid to experiment:** Try different approaches and see what works best for you.\n",
      "\n",
      "It's important to note that AI is a powerful tool, but it's not unbeatable. Humans still have a lot to offer the world, and we can use our unique skills to complement and even surpass AI in certain areas.  \n",
      "\n",
      "Let me know if you're interested in learning more about specific types of AI or games! \n",
      "\n"
     ]
    }
   ],
   "source": [
    "print(chat.send_message(\"how do I beat an AI?\").text)"
   ]
  },
  {
   "cell_type": "code",
   "execution_count": 13,
   "metadata": {},
   "outputs": [
    {
     "name": "stdout",
     "output_type": "stream",
     "text": [
      "You told me your name is Jatin! \n",
      "\n",
      "Is there anything else I can help you with? \n",
      "\n"
     ]
    }
   ],
   "source": [
    "print(chat.send_message(\"what is my name?\").text)"
   ]
  },
  {
   "cell_type": "code",
   "execution_count": 14,
   "metadata": {},
   "outputs": [
    {
     "name": "stdout",
     "output_type": "stream",
     "text": [
      "models/chat-bison-001\n",
      "models/text-bison-001\n",
      "models/embedding-gecko-001\n",
      "models/gemini-1.0-pro-latest\n",
      "models/gemini-1.0-pro\n",
      "models/gemini-pro\n",
      "models/gemini-1.0-pro-001\n",
      "models/gemini-1.0-pro-vision-latest\n",
      "models/gemini-pro-vision\n",
      "models/gemini-1.5-pro-latest\n",
      "models/gemini-1.5-pro-001\n",
      "models/gemini-1.5-pro-002\n",
      "models/gemini-1.5-pro\n",
      "models/gemini-1.5-pro-exp-0801\n",
      "models/gemini-1.5-pro-exp-0827\n",
      "models/gemini-1.5-flash-latest\n",
      "models/gemini-1.5-flash-001\n",
      "models/gemini-1.5-flash-001-tuning\n",
      "models/gemini-1.5-flash\n",
      "models/gemini-1.5-flash-exp-0827\n",
      "models/gemini-1.5-flash-002\n",
      "models/gemini-1.5-flash-8b\n",
      "models/gemini-1.5-flash-8b-001\n",
      "models/gemini-1.5-flash-8b-latest\n",
      "models/gemini-1.5-flash-8b-exp-0827\n",
      "models/gemini-1.5-flash-8b-exp-0924\n",
      "models/embedding-001\n",
      "models/text-embedding-004\n",
      "models/aqa\n"
     ]
    }
   ],
   "source": [
    "for model in genai.list_models():\n",
    "    print(model.name)"
   ]
  },
  {
   "cell_type": "code",
   "execution_count": 15,
   "metadata": {},
   "outputs": [
    {
     "name": "stdout",
     "output_type": "stream",
     "text": [
      "Model(name='models/gemini-1.5-flash',\n",
      "      base_model_id='',\n",
      "      version='001',\n",
      "      display_name='Gemini 1.5 Flash',\n",
      "      description='Fast and versatile multimodal model for scaling across diverse tasks',\n",
      "      input_token_limit=1000000,\n",
      "      output_token_limit=8192,\n",
      "      supported_generation_methods=['generateContent', 'countTokens'],\n",
      "      temperature=1.0,\n",
      "      max_temperature=2.0,\n",
      "      top_p=0.95,\n",
      "      top_k=40)\n"
     ]
    }
   ],
   "source": [
    "for model in genai.list_models():\n",
    "    if model.name == \"models/gemini-1.5-flash\":\n",
    "        print(model)"
   ]
  },
  {
   "cell_type": "code",
   "execution_count": 168,
   "metadata": {},
   "outputs": [
    {
     "name": "stdout",
     "output_type": "stream",
     "text": [
      "Driven by a sudden craving for tuna, Whiskers, a ginger tabby with a penchant for mischief, embarked on a daring journey through the bustling city, navigating treacherous alleyways and dodging startled pigeons, only to discover a hidden treasure trove of gourmet cat food in a forgotten corner of the local grocery store. \n",
      "\n"
     ]
    }
   ],
   "source": [
    "model = genai.GenerativeModel(\n",
    "    'gemini-1.5-flash-001',\n",
    "    generation_config=genai.GenerationConfig(\n",
    "        # in order of how these filters are applied once the all the tokens are allocated thier probability weightage based on the input tokens\n",
    "        top_k=1000, # number of tokens selected based on the highest probability\n",
    "        top_p=0.95, # threshold for selecting tokens until their cumulative probability hits this value\n",
    "        temperature=0.0, # degree of randomness - higher the number, larger the randomness with which the next token is selected from the candidate tokens\n",
    "    ))\n",
    "\n",
    "story_prompt = \"You are a creative writer. Write a one sentence interesting story about a cat who goes on an adventure.\"\n",
    "response = model.generate_content(story_prompt)\n",
    "print(response.text)"
   ]
  },
  {
   "cell_type": "code",
   "execution_count": 169,
   "metadata": {},
   "outputs": [
    {
     "name": "stdout",
     "output_type": "stream",
     "text": [
      "Driven by a sudden craving for tuna, Whiskers, a ginger tabby with a penchant for mischief, embarked on a daring journey through the bustling city, navigating treacherous alleyways and dodging startled pigeons, only to discover a hidden treasure trove of gourmet cat food in a forgotten corner of the local grocery store. \n",
      "\n"
     ]
    }
   ],
   "source": [
    "model = genai.GenerativeModel(\n",
    "    'gemini-1.5-flash-001',\n",
    "    generation_config=genai.GenerationConfig(\n",
    "        # in order of how these filters are applied once the all the tokens are allocated thier probability weightage based on the input tokens\n",
    "        top_k=1000, # number of tokens selected based on the highest probability\n",
    "        top_p=0.95, # threshold for selecting tokens until their cumulative probability hits this value\n",
    "        temperature=0.0, # degree of randomness - higher the number, larger the randomness with which the next token is selected from the candidate tokens\n",
    "    ))\n",
    "\n",
    "story_prompt = \"You are a creative writer. Write a one sentence interesting story about a cat who goes on an adventure.\"\n",
    "response = model.generate_content(story_prompt)\n",
    "print(response.text)"
   ]
  },
  {
   "cell_type": "code",
   "execution_count": 139,
   "metadata": {},
   "outputs": [
    {
     "name": "stdout",
     "output_type": "stream",
     "text": [
      "Sentiment: **POSITIVE** \n",
      "\n",
      "Here's why:\n",
      "\n",
      "* **\"Disturbing study\"** is a positive term in this context, implying the film is thought-provoking and impactful.\n",
      "* **\"Masterpiece\"** is a strong\n"
     ]
    }
   ],
   "source": [
    "model = genai.GenerativeModel(\n",
    "    'gemini-1.5-flash-001',\n",
    "    generation_config=genai.GenerationConfig(\n",
    "        temperature=0.6,\n",
    "        top_p=1,\n",
    "        max_output_tokens=50,\n",
    "    ))\n",
    "\n",
    "zero_shot_prompt = \"\"\"Classify movie reviews as POSITIVE, NEUTRAL or NEGATIVE.\n",
    "Review: \"Her\" is a disturbing study revealing the direction\n",
    "humanity is headed if AI is allowed to keep evolving,\n",
    "unchecked. I wish there were more movies like this masterpiece.\n",
    "Sentiment: \"\"\"\n",
    "\n",
    "response = model.generate_content(zero_shot_prompt)\n",
    "print(response.text)"
   ]
  },
  {
   "cell_type": "code",
   "execution_count": 141,
   "metadata": {},
   "outputs": [
    {
     "name": "stdout",
     "output_type": "stream",
     "text": [
      "positive\n"
     ]
    }
   ],
   "source": [
    "import enum\n",
    "\n",
    "class Sentiment(enum.Enum):\n",
    "    POSITIVE = \"positive\"\n",
    "    NEUTRAL = \"neutral\"\n",
    "    NEGATIVE = \"negative\"\n",
    "\n",
    "\n",
    "model = genai.GenerativeModel(\n",
    "    'gemini-1.5-flash-001',\n",
    "    generation_config=genai.GenerationConfig(\n",
    "        response_mime_type=\"text/x.enum\",\n",
    "        response_schema=Sentiment, \n",
    "        max_output_tokens=50\n",
    "    ))\n",
    "\n",
    "response = model.generate_content(zero_shot_prompt)\n",
    "print(response.text)"
   ]
  },
  {
   "cell_type": "code",
   "execution_count": 142,
   "metadata": {},
   "outputs": [
    {
     "name": "stdout",
     "output_type": "stream",
     "text": [
      "{\"ingredients\": [\"apple\", \"chocolate\"], \"size\": \"large\", \"type\": \"dessert\"}\n",
      "\n"
     ]
    }
   ],
   "source": [
    "import typing_extensions as typing\n",
    "\n",
    "class PizzaOrder(typing.TypedDict):\n",
    "    size: str\n",
    "    ingredients: list[str]\n",
    "    type: str\n",
    "\n",
    "\n",
    "model = genai.GenerativeModel(\n",
    "    'gemini-1.5-flash-latest',\n",
    "    generation_config=genai.GenerationConfig(\n",
    "        temperature=0.1,\n",
    "        response_mime_type=\"application/json\",\n",
    "        response_schema=PizzaOrder,\n",
    "    ))\n",
    "\n",
    "response = model.generate_content(\"Can I have a large dessert pizza with apple and chocolate\")\n",
    "print(response.text)"
   ]
  },
  {
   "cell_type": "code",
   "execution_count": 143,
   "metadata": {},
   "outputs": [
    {
     "name": "stdout",
     "output_type": "stream",
     "text": [
      "{\"ingredients\": [\"When I was 4 years old, my partner was 3 times my age.\", \"Now, I am 20 years old.\", \"How old is my partner?\"], \"size\": \"small\", \"type\": \"math word problem\"}\n",
      "\n"
     ]
    }
   ],
   "source": [
    "prompt = \"\"\"When I was 4 years old, my partner was 3 times my age. Now,\n",
    "I am 20 years old. How old is my partner? Let's think step by step.\"\"\"\n",
    "\n",
    "response = model.generate_content(prompt)\n",
    "print(response.text)"
   ]
  },
  {
   "cell_type": "code",
   "execution_count": 144,
   "metadata": {},
   "outputs": [],
   "source": [
    "model_instructions = \"\"\"\n",
    "Solve a question answering task with interleaving Thought, Action, Observation steps. Thought can reason about the current situation,\n",
    "Observation is understanding relevant information from an Action's output and Action can be one of three types:\n",
    " (1) <search>entity</search>, which searches the exact entity on Wikipedia and returns the first paragraph if it exists. If not, it\n",
    "     will return some similar entities to search and you can try to search the information from those topics.\n",
    " (2) <lookup>keyword</lookup>, which returns the next sentence containing keyword in the current context. This only does exact matches,\n",
    "     so keep your searches short.\n",
    " (3) <finish>answer</finish>, which returns the answer and finishes the task.\n",
    "\"\"\"\n",
    "\n",
    "example1 = \"\"\"Question\n",
    "Musician and satirist Allie Goertz wrote a song about the \"The Simpsons\" character Milhouse, who Matt Groening named after who?\n",
    "\n",
    "Thought 1\n",
    "The question simplifies to \"The Simpsons\" character Milhouse is named after who. I only need to search Milhouse and find who it is named after.\n",
    "\n",
    "Action 1\n",
    "<search>Milhouse</search>\n",
    "\n",
    "Observation 1\n",
    "Milhouse Mussolini Van Houten is a recurring character in the Fox animated television series The Simpsons voiced by Pamela Hayden and created by Matt Groening.\n",
    "\n",
    "Thought 2\n",
    "The paragraph does not tell who Milhouse is named after, maybe I can look up \"named after\".\n",
    "\n",
    "Action 2\n",
    "<lookup>named after</lookup>\n",
    "\n",
    "Observation 2\n",
    "Milhouse was named after U.S. president Richard Nixon, whose middle name was Milhous.\n",
    "\n",
    "Thought 3\n",
    "Milhouse was named after U.S. president Richard Nixon, so the answer is Richard Nixon.\n",
    "\n",
    "Action 3\n",
    "<finish>Richard Nixon</finish>\n",
    "\"\"\"\n",
    "\n",
    "example2 = \"\"\"Question\n",
    "What is the elevation range for the area that the eastern sector of the Colorado orogeny extends into?\n",
    "\n",
    "Thought 1\n",
    "I need to search Colorado orogeny, find the area that the eastern sector of the Colorado orogeny extends into, then find the elevation range of the area.\n",
    "\n",
    "Action 1\n",
    "<search>Colorado orogeny</search>\n",
    "\n",
    "Observation 1\n",
    "The Colorado orogeny was an episode of mountain building (an orogeny) in Colorado and surrounding areas.\n",
    "\n",
    "Thought 2\n",
    "It does not mention the eastern sector. So I need to look up eastern sector.\n",
    "\n",
    "Action 2\n",
    "<lookup>eastern sector</lookup>\n",
    "\n",
    "Observation 2\n",
    "The eastern sector extends into the High Plains and is called the Central Plains orogeny.\n",
    "\n",
    "Thought 3\n",
    "The eastern sector of Colorado orogeny extends into the High Plains. So I need to search High Plains and find its elevation range.\n",
    "\n",
    "Action 3\n",
    "<search>High Plains</search>\n",
    "\n",
    "Observation 3\n",
    "High Plains refers to one of two distinct land regions\n",
    "\n",
    "Thought 4\n",
    "I need to instead search High Plains (United States).\n",
    "\n",
    "Action 4\n",
    "<search>High Plains (United States)</search>\n",
    "\n",
    "Observation 4\n",
    "The High Plains are a subregion of the Great Plains. From east to west, the High Plains rise in elevation from around 1,800 to 7,000 ft (550 to 2,130m).\n",
    "\n",
    "Thought 5\n",
    "High Plains rise in elevation from around 1,800 to 7,000 ft, so the answer is 1,800 to 7,000 ft.\n",
    "\n",
    "Action 5\n",
    "<finish>1,800 to 7,000 ft</finish>\n",
    "\"\"\""
   ]
  },
  {
   "cell_type": "code",
   "execution_count": 145,
   "metadata": {},
   "outputs": [
    {
     "name": "stdout",
     "output_type": "stream",
     "text": [
      "Thought 1\n",
      "I need to find the Transformers NLP paper and identify the youngest author.\n",
      "\n",
      "Action 1\n",
      "<search>Transformers NLP paper</search>\n",
      "\n"
     ]
    }
   ],
   "source": [
    "question = \"\"\"Question\n",
    "Who was the youngest author listed on the transformers NLP paper?\n",
    "\"\"\"\n",
    "\n",
    "model = genai.GenerativeModel('gemini-1.5-flash-latest')\n",
    "react_chat = model.start_chat()\n",
    "\n",
    "# You will perform the Action, so generate up to, but not including, the Observation.\n",
    "config = genai.GenerationConfig(stop_sequences=[\"\\nObservation\"])\n",
    "\n",
    "resp = react_chat.send_message(\n",
    "    [model_instructions, example1, example2, question],\n",
    "    generation_config=config)\n",
    "print(resp.text)"
   ]
  },
  {
   "cell_type": "code",
   "execution_count": 146,
   "metadata": {},
   "outputs": [
    {
     "name": "stdout",
     "output_type": "stream",
     "text": [
      "Thought 2: The observation lists the authors of the Transformers NLP paper, but it doesn't mention their ages. I need to look up the ages of the authors.\n",
      "\n",
      "Action 2: <search>authors of Transformers NLP paper ages> \n",
      "\n"
     ]
    }
   ],
   "source": [
    "observation = \"\"\"Observation 1\n",
    "[1706.03762] Attention Is All You Need\n",
    "Ashish Vaswani, Noam Shazeer, Niki Parmar, Jakob Uszkoreit, Llion Jones, Aidan N. Gomez, Lukasz Kaiser, Illia Polosukhin\n",
    "We propose a new simple network architecture, the Transformer, based solely on attention mechanisms, dispensing with recurrence and convolutions entirely.\n",
    "\"\"\"\n",
    "resp = react_chat.send_message(observation, generation_config=config)\n",
    "print(resp.text)"
   ]
  },
  {
   "cell_type": "code",
   "execution_count": 147,
   "metadata": {},
   "outputs": [
    {
     "data": {
      "text/markdown": [
       "```python\n",
       "def factorial(n):\n",
       "  if n == 0:\n",
       "    return 1\n",
       "  else:\n",
       "    return n * factorial(n-1)\n",
       "```"
      ],
      "text/plain": [
       "<IPython.core.display.Markdown object>"
      ]
     },
     "execution_count": 147,
     "metadata": {},
     "output_type": "execute_result"
    }
   ],
   "source": [
    "model = genai.GenerativeModel(\n",
    "    'gemini-1.5-flash-latest',\n",
    "    generation_config=genai.GenerationConfig(\n",
    "        temperature=1,\n",
    "        top_p=1,\n",
    "        max_output_tokens=1024,\n",
    "    ))\n",
    "\n",
    "# Gemini 1.5 models are very chatty, so it helps to specify they stick to the code.\n",
    "code_prompt = \"\"\"\n",
    "Write a Python function to calculate the factorial of a number. No explanation, provide only the code.\n",
    "\"\"\"\n",
    "\n",
    "response = model.generate_content(code_prompt)\n",
    "Markdown(response.text)"
   ]
  },
  {
   "cell_type": "code",
   "execution_count": 148,
   "metadata": {},
   "outputs": [
    {
     "data": {
      "text/markdown": [
       "\n",
       "``` python\n",
       "import sympy\n",
       "\n",
       "primes = sympy.primerange(1, 50)\n",
       "odd_primes = [p for p in primes if p % 2 != 0]\n",
       "sum_of_primes = sum(odd_primes[:14])\n",
       "print(f'{sum_of_primes=}')\n",
       "\n",
       "```\n",
       "```\n",
       "sum_of_primes=326\n",
       "\n",
       "```\n",
       "The sum of the first 14 odd prime numbers is 326. \n"
      ],
      "text/plain": [
       "<IPython.core.display.Markdown object>"
      ]
     },
     "execution_count": 148,
     "metadata": {},
     "output_type": "execute_result"
    }
   ],
   "source": [
    "model = genai.GenerativeModel(\n",
    "    'gemini-1.5-flash-latest',\n",
    "    tools='code_execution')\n",
    "\n",
    "code_exec_prompt = \"\"\"\n",
    "Calculate the sum of the first 14 prime numbers. Only consider the odd primes, and make sure you get them all.\n",
    "\"\"\"\n",
    "\n",
    "response = model.generate_content(code_exec_prompt)\n",
    "Markdown(response.text)"
   ]
  },
  {
   "cell_type": "code",
   "execution_count": 149,
   "metadata": {},
   "outputs": [
    {
     "name": "stdout",
     "output_type": "stream",
     "text": [
      "text: \"\"\n",
      "\n",
      "-----\n",
      "executable_code {\n",
      "  language: PYTHON\n",
      "  code: \"\\nimport sympy\\n\\nprimes = sympy.primerange(1, 50)\\nodd_primes = [p for p in primes if p % 2 != 0]\\nsum_of_primes = sum(odd_primes[:14])\\nprint(f\\'{sum_of_primes=}\\')\\n\"\n",
      "}\n",
      "\n",
      "-----\n",
      "code_execution_result {\n",
      "  outcome: OUTCOME_OK\n",
      "  output: \"sum_of_primes=326\\n\"\n",
      "}\n",
      "\n",
      "-----\n",
      "text: \"The sum of the first 14 odd prime numbers is 326. \\n\"\n",
      "\n",
      "-----\n"
     ]
    }
   ],
   "source": [
    "for part in response.candidates[0].content.parts:\n",
    "  print(part)\n",
    "  print(\"-----\")"
   ]
  },
  {
   "cell_type": "code",
   "execution_count": 150,
   "metadata": {},
   "outputs": [
    {
     "data": {
      "text/markdown": [
       "This file is a Bash script designed to enhance your command-line prompt by incorporating information about your current Git repository. It's essentially a Git prompt plugin that provides you with a visual representation of your repository's status, including branch name, upstream status, staged changes, conflicts, untracked files, and more.\n",
       "\n",
       "Here's why you might use it:\n",
       "\n",
       "* **Improved Workspace Awareness:** The script makes it easy to see the status of your Git repository at a glance without having to run additional commands. This can help you stay organized and productive, especially when working with multiple repositories.\n",
       "* **Detailed Information:** The script provides detailed information about your repository, including the branch name, upstream status, staged changes, conflicts, untracked files, and more. This can help you quickly understand the current state of your project and take appropriate action.\n",
       "* **Customization:** The script can be heavily customized to match your preferences, including the colors used, the information displayed, and the layout of the prompt.\n",
       "* **Integration with virtual environments:** The script can also display information about your virtual environment, such as the name of the active environment.\n",
       "\n",
       "Overall, this file provides a powerful and customizable tool for working with Git repositories from the command line. It can significantly enhance your workflow by providing more information and context within your shell environment. \n"
      ],
      "text/plain": [
       "<IPython.core.display.Markdown object>"
      ]
     },
     "execution_count": 150,
     "metadata": {},
     "output_type": "execute_result"
    }
   ],
   "source": [
    "file_contents = !curl https://raw.githubusercontent.com/magicmonty/bash-git-prompt/refs/heads/master/gitprompt.sh\n",
    "\n",
    "explain_prompt = f\"\"\"\n",
    "Please explain what this file does at a very high level. What is it, and why would I use it?\n",
    "\n",
    "```\n",
    "{file_contents}\n",
    "```\n",
    "\"\"\"\n",
    "\n",
    "model = genai.GenerativeModel('gemini-1.5-flash-latest')\n",
    "\n",
    "response = model.generate_content(explain_prompt)\n",
    "Markdown(response.text)"
   ]
  },
  {
   "cell_type": "markdown",
   "metadata": {},
   "source": [
    "My takeaways:\n",
    "1. ReAct prompting framework: https://react-lm.github.io/\n",
    "2. Stop sequences - can be used when giving answers to the LLM during its action task in ReAct framework\n",
    "2. Code Execution: using tools='code_execution'\n",
    "3. Output control using top_k, top_p, and temperature"
   ]
  }
 ],
 "metadata": {
  "kernelspec": {
   "display_name": "venv_ai",
   "language": "python",
   "name": "python3"
  },
  "language_info": {
   "codemirror_mode": {
    "name": "ipython",
    "version": 3
   },
   "file_extension": ".py",
   "mimetype": "text/x-python",
   "name": "python",
   "nbconvert_exporter": "python",
   "pygments_lexer": "ipython3",
   "version": "3.12.0"
  }
 },
 "nbformat": 4,
 "nbformat_minor": 2
}
